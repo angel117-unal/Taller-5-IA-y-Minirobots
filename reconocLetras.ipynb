{
  "cells": [
    {
      "cell_type": "code",
      "execution_count": null,
      "metadata": {
        "colab": {
          "background_save": true
        },
        "id": "MpbaWLpM9nLV"
      },
      "outputs": [],
      "source": [
        "import numpy as np\n",
        "from matplotlib import pyplot as plt"
      ]
    },
    {
      "cell_type": "code",
      "execution_count": null,
      "metadata": {
        "id": "5cp5sGun-SkZ"
      },
      "outputs": [],
      "source": [
        "\n",
        "class NNA(object):\n",
        "    def __init__(self):\n",
        "        self.nn_0 = 20  # Número de entradas\n",
        "        self.nn_1 = 5   # Número de neuronas en la primera capa oculta\n",
        "        self.nn_2 = 5   # Número de neuronas en la segunda capa oculta\n",
        "        self.nn_3 = 5   # Número de neuronas en la capa de salida\n",
        "\n",
        "        # Inicialización de pesos (usando inicialización Xavier)\n",
        "        self.W1 = np.random.randn(self.nn_1, self.nn_0) * np.sqrt(2. / self.nn_0)\n",
        "        self.b1 = np.zeros((self.nn_1, 1))\n",
        "        self.W2 = np.random.randn(self.nn_2, self.nn_1) * np.sqrt(2. / self.nn_1)\n",
        "        self.b2 = np.zeros((self.nn_2, 1))\n",
        "        self.W3 = np.random.randn(self.nn_3, self.nn_2) * np.sqrt(2. / self.nn_2)\n",
        "        self.b3 = np.zeros((self.nn_3, 1))\n",
        "\n",
        "        # Variables de activación y entradas\n",
        "        self.Z1 = np.zeros((self.nn_1, 1))\n",
        "        self.Y1 = np.zeros((self.nn_1, 1))\n",
        "        self.Z2 = np.zeros((self.nn_2, 1))\n",
        "        self.Y2 = np.zeros((self.nn_2, 1))\n",
        "        self.Z3 = np.zeros((self.nn_3, 1))\n",
        "        self.Y3 = np.zeros((self.nn_3, 1))\n",
        "\n",
        "    def forward(self, Yo):\n",
        "        self.Z1 = np.dot(self.W1, Yo) + self.b1\n",
        "        self.Y1 = self.sig(self.Z1)\n",
        "        self.Z2 = np.dot(self.W2, self.Y1) + self.b2\n",
        "        self.Y2 = self.sig(self.Z2)\n",
        "        self.Z3 = np.dot(self.W3, self.Y2) + self.b3\n",
        "        self.Y3 = self.sig(self.Z3)\n",
        "        return self.Y3\n",
        "\n",
        "    def error(self, Yo, Yd):\n",
        "        return Yd - self.forward(Yo)\n",
        "\n",
        "    def errCuad(self, Yo, Yd):\n",
        "        return np.diag(np.dot(self.error(Yo, Yd).T, self.error(Yo, Yd)))\n",
        "\n",
        "    def backpropagation(self, Yo, Yd):\n",
        "        delta3 = 2 * np.dot(self.dSig(self.Z3), self.error(Yo, Yd))\n",
        "        dEdW3 = -np.dot(delta3, self.Y2.T)\n",
        "        dEdb3 = -delta3\n",
        "\n",
        "        delta2 = np.dot(np.dot(self.dSig(self.Z2), self.W3.T), delta3)\n",
        "        dEdW2 = -np.dot(delta2, self.Y1.T)\n",
        "        dEdb2 = -delta2\n",
        "\n",
        "        delta1 = np.dot(np.dot(self.dSig(self.Z1), self.W2.T), delta2)\n",
        "        dEdW1 = -np.dot(delta1, Yo.T)\n",
        "        dEdb1 = -delta1\n",
        "\n",
        "        return dEdW3, dEdb3, dEdW2, dEdb2, dEdW1, dEdb1\n",
        "\n",
        "    def training(self, Yi, Ys):\n",
        "        eta = 1\n",
        "        i = 0\n",
        "        errors = []  # Para almacenar el error en cada iteración\n",
        "\n",
        "        while max(self.errCuad(Yi, Ys)) > 1e-4 and i < 10000:\n",
        "            for yo, yd in zip(Yi.T, Ys.T):\n",
        "                self.W3 -= eta * self.backpropagation(np.array([yo]).T, np.array([yd]).T)[0]\n",
        "                self.b3 -= eta * self.backpropagation(np.array([yo]).T, np.array([yd]).T)[1]\n",
        "                self.W2 -= eta * self.backpropagation(np.array([yo]).T, np.array([yd]).T)[2]\n",
        "                self.b2 -= eta * self.backpropagation(np.array([yo]).T, np.array([yd]).T)[3]\n",
        "                self.W1 -= eta * self.backpropagation(np.array([yo]).T, np.array([yd]).T)[4]\n",
        "                self.b1 -= eta * self.backpropagation(np.array([yo]).T, np.array([yd]).T)[5]\n",
        "\n",
        "            errors.append(np.mean(self.errCuad(Yi, Ys)))  # Guardamos el error de cada iteración\n",
        "            i += 1\n",
        "            eta = self.funEta(i)\n",
        "\n",
        "        # Visualización del error durante el entrenamiento\n",
        "        plt.plot(errors)\n",
        "        plt.title('Evolución del error durante el entrenamiento')\n",
        "        plt.xlabel('Iteraciones')\n",
        "        plt.ylabel('Error cuadrático')\n",
        "        plt.show()\n",
        "\n",
        "        return i\n",
        "\n",
        "    def sig(self, s):\n",
        "        return 1 / (1 + np.exp(-s))\n",
        "\n",
        "    def dSig(self, s):\n",
        "        return np.diag(self.sig(s.T[0]) * (1 - self.sig(s.T[0])))\n",
        "\n",
        "    def funEta(self, var):\n",
        "        if var <= 5000:\n",
        "            return 1.0 - (1.0 * var / 10000)\n",
        "        else:\n",
        "            return 0.7 * np.exp(-0.0002 * (var - 5000))\n"
      ]
    },
    {
      "cell_type": "code",
      "execution_count": null,
      "metadata": {
        "id": "3C4ybrPyAIF_"
      },
      "outputs": [],
      "source": [
        "# Definir los datos de entrada y salida de entrenamiento\n",
        "A = np.array([[0,0,0,0],[0,1,1,0],[0,0,0,0],[0,1,1,0],[0,1,1,0]])\n",
        "E = np.array([[0,0,0,0],[0,1,1,1],[0,0,0,1],[0,1,1,1],[0,0,0,0]])\n",
        "I = np.array([[0,0,0,0],[1,0,0,1],[1,0,0,1],[1,0,0,1],[0,0,0,0]])\n",
        "O = np.array([[0,0,0,0],[0,1,1,0],[0,1,1,0],[0,1,1,0],[0,0,0,0]])\n",
        "U = np.array([[0,1,1,0],[0,1,1,0],[0,1,1,0],[0,1,1,0],[0,0,0,0]])\n",
        "\n",
        "# Valores deseados\n",
        "da = np.array([[1,0,0,0,0]]).T\n",
        "de = np.array([[0,1,0,0,0]]).T\n",
        "di = np.array([[0,0,1,0,0]]).T\n",
        "do = np.array([[0,0,0,1,0]]).T\n",
        "du = np.array([[0,0,0,0,1]]).T\n",
        "\n",
        "# Concatenación de los elementos de entrada y salida\n",
        "Yi = np.concatenate((\n",
        "    np.array([A.ravel()]).T,\n",
        "    np.array([E.ravel()]).T,\n",
        "    np.array([I.ravel()]).T,\n",
        "    np.array([O.ravel()]).T,\n",
        "    np.array([U.ravel()]).T,\n",
        "    np.array([U.ravel()]).T,\n",
        "    np.array([O.ravel()]).T,\n",
        "    np.array([I.ravel()]).T,\n",
        "    np.array([E.ravel()]).T,\n",
        "    np.array([A.ravel()]).T), axis=1)\n",
        "\n",
        "Yd = np.concatenate((da, de, di, do, du, du, do, di, de, da), axis=1)\n"
      ]
    },
    {
      "cell_type": "code",
      "execution_count": null,
      "metadata": {
        "colab": {
          "base_uri": "https://localhost:8080/",
          "height": 611
        },
        "id": "z0dqmu5YALuF",
        "outputId": "9c714368-d116-47b3-b9da-7af8c11da8f0"
      },
      "outputs": [
        {
          "data": {
            "image/png": "[encoded data removed]",
            "text/plain": [
              "<Figure size 640x480 with 1 Axes>"
            ]
          },
          "metadata": {},
          "output_type": "display_data"
        },
        {
          "name": "stdout",
          "output_type": "stream",
          "text": [
            "Salida Valor deseado Error\n",
            "(array([0.98896651]), 7) -> [1] -> [0.01103349]\n",
            "(array([0.00010286]), 7) -> [0] -> [-0.00010286]\n",
            "(array([0.00832224]), 7) -> [0] -> [-0.00832224]\n",
            "(array([4.6551006e-06]), 7) -> [0] -> [-4.6551006e-06]\n",
            "(array([0.00360945]), 7) -> [0] -> [-0.00360945]\n",
            "\n",
            "Los valores de salida son aproximados\n"
          ]
        }
      ],
      "source": [
        "# Entrenar la red\n",
        "nna = NNA()\n",
        "iterations = nna.training(Yi, Yd)\n",
        "\n",
        "# Imprimir resultados después del entrenamiento\n",
        "At = np.array([A.ravel()]).T\n",
        "print(\"Salida\", \"Valor deseado\", \"Error\")\n",
        "for i in range(5):\n",
        "    print((nna.forward(At)[i], 7), \"->\", da[i], \"->\", nna.error(At, da)[i])\n",
        "\n",
        "print(\"\\nLos valores de salida son aproximados\")"
      ]
    }
  ],
  "metadata": {
    "colab": {
      "provenance": []
    },
    "kernelspec": {
      "display_name": "Python 3 (ipykernel)",
      "language": "python",
      "name": "python3"
    },
    "language_info": {
      "codemirror_mode": {
        "name": "ipython",
        "version": 3
      },
      "file_extension": ".py",
      "mimetype": "text/x-python",
      "name": "python",
      "nbconvert_exporter": "python",
      "pygments_lexer": "ipython3",
      "version": "3.9.13"
    }
  },
  "nbformat": 4,
  "nbformat_minor": 0
}